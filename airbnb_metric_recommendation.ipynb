{
 "cells": [
  {
   "cell_type": "markdown",
   "id": "00741ae6",
   "metadata": {},
   "source": [
    "Key metrics to monitor success of team's effort in improving the guest host matching process?"
   ]
  },
  {
   "cell_type": "markdown",
   "id": "09d990f1",
   "metadata": {},
   "source": [
    "Goal of the company:\n",
    "- increase bookings on platform"
   ]
  },
  {
   "cell_type": "markdown",
   "id": "0cf55107",
   "metadata": {},
   "source": [
    "Ideas:\n",
    "- contact to booking ratio\n",
    "- listings to booking ratio\n",
    "- interactions before booking"
   ]
  },
  {
   "cell_type": "markdown",
   "id": "57b3570c",
   "metadata": {},
   "source": [
    "## Import Required Python Packages and Define Functions"
   ]
  },
  {
   "cell_type": "code",
   "execution_count": 1,
   "id": "6959b278",
   "metadata": {},
   "outputs": [],
   "source": [
    "# Import required packages\n",
    "import numpy as np\n",
    "import pandas as pd\n",
    "\n",
    "import matplotlib.pyplot as plt\n",
    "import seaborn as sns"
   ]
  },
  {
   "cell_type": "code",
   "execution_count": 13,
   "id": "64a01db2",
   "metadata": {},
   "outputs": [],
   "source": [
    "def dataframe_overview(df,df_name):\n",
    "    '''\n",
    "    This function presents an overview of the DataFrame\n",
    "    \n",
    "    Input\n",
    "    -----\n",
    "    df: a DataFrame object\n",
    "    df_name: a string containing the name of the DataFrame object\n",
    "    \n",
    "    Output\n",
    "    ------\n",
    "    Print out overview for provided DataFrame\n",
    "    '''\n",
    "    \n",
    "    # Define variables to use in print out\n",
    "    # Number of null values\n",
    "    null_cells = df.isna().sum().sum()\n",
    "    # Number of rows that contain null values in any column\n",
    "    null_rows = df.isna().any(axis = 1).sum()\n",
    "    # Number of cells (rows in DataFrame multiplied by columns in DataFrame)\n",
    "    df_cells = df.shape[0] * df.shape[1]\n",
    "    \n",
    "    # Apply variables in print statements\n",
    "    print(f\"Overview statistics for {df_name}:\")\n",
    "    print(f\"Number of rows: {df.shape[0]}\")\n",
    "    print(f\"Number of columns: {df.shape[1]}\")\n",
    "    \n",
    "    print(f\"Number of rows with null values in any column: {null_rows}\")\n",
    "    print(f\"% of rows with null values in any column: {np.round(null_rows/df.shape[0] *100,2)}%\")\n",
    "    \n",
    "    print(f\"Number of null cells: {null_cells}\")\n",
    "    print(f\"% of cells with null values: {np.round(null_cells/df_cells *100,2)}%\")"
   ]
  },
  {
   "cell_type": "markdown",
   "id": "9ff040bb",
   "metadata": {},
   "source": [
    "## Importing Data"
   ]
  },
  {
   "cell_type": "markdown",
   "id": "91b3ff53",
   "metadata": {},
   "source": [
    "### Main data table"
   ]
  },
  {
   "cell_type": "markdown",
   "id": "97d9a28d",
   "metadata": {},
   "source": [
    "**Contacts.csv**, in which each row represents an inquiry for a stay at a listing in Rio de Janeiro, was loaded into the DataFrame **contacts_df**. Contacts_df was identified as the main table (central table within a star schema) as it contains information regarding each inquiry, which is essential to measuring the performance of the team in Rio de Janeiro and AirBnB in general. This is because the conversion of an inquiry into a booking is what generates income for AirBnB."
   ]
  },
  {
   "cell_type": "code",
   "execution_count": 3,
   "id": "4d2ef0b3",
   "metadata": {},
   "outputs": [],
   "source": [
    "# contacts_df: contains a row for everytime a user makes an inquiry for a stay at a listing in Rio de Janeiro\n",
    "contacts_df = pd.read_csv(\n",
    "    'data/contacts.csv', \n",
    "    # The columns that are datetime or date objects based on provided data dictionary were passed into the parse_dates argument\n",
    "    parse_dates = [\n",
    "        'ts_interaction_first', # UTC timestamp of the moment the inquiry is made\n",
    "        'ts_reply_at_first', # UTC timestamp of the moment host replies to inquiry, if so\n",
    "        'ts_accepted_at_first', # UTC timestamp of the momentt host accepts the inquiry, if so\n",
    "        'ts_booking_at', # UTC timestamp of the moment the booking is made, if so\n",
    "        'ds_checkin_first', # timestamp of the checkin date of inquiry\n",
    "        'ds_checkout_first' # timestamp of the checkout date of inquiry\n",
    "    ]\n",
    ")"
   ]
  },
  {
   "cell_type": "markdown",
   "id": "83bcb64c",
   "metadata": {},
   "source": [
    "The data available contained a total of 27,887 inquiries. Although 58.45% of the inquiries contained a null value, the null value may indicate an inquiry that resulted in no booking and requires further data exploration. To affirm the previous statement, only 7.63% of all cells were null, further supporting the need to explore the columns deeply."
   ]
  },
  {
   "cell_type": "code",
   "execution_count": 14,
   "id": "c3ed9d8d",
   "metadata": {},
   "outputs": [
    {
     "name": "stdout",
     "output_type": "stream",
     "text": [
      "Overview statistics for contacts_df:\n",
      "Number of rows: 27887\n",
      "Number of columns: 14\n",
      "Number of rows with null values in any column: 16300\n",
      "% of rows with null values in any column: 58.45%\n",
      "Number of null cells: 29805\n",
      "% of cells with null values: 7.63%\n"
     ]
    }
   ],
   "source": [
    "# Examine the overview for the loaded data\n",
    "dataframe_overview(contacts_df, \"contacts_df\")"
   ]
  },
  {
   "cell_type": "markdown",
   "id": "c28e4045",
   "metadata": {},
   "source": [
    "Below is a visual printout of the first 5 rows of the data within *contacts_df*. To present the data in a more readable matter, the data was presented in a transposed format, where each row below is a data field and each column is an inquiry.\n",
    "\n",
    "Upon visual examination, the 3 data fields that begin with *'id'* are useful for identifying unique inquiries within *contacts_df* and are useful for connecting to supporting data tables *listings_df* and *users_df*.\n",
    "\n",
    "Some cells below were observed to contain 'NaT', which stands for *Not a Time*. This means that there were null values or objects in the cells that cannot be recognized as datetime objects by the pandas module. However, this is not a problem in the data and should instead be understood as a inquiry that did not become a booking or an `instant_book` inquiry, in which no response or confirmation is needed from the host."
   ]
  },
  {
   "cell_type": "code",
   "execution_count": 19,
   "id": "3dcea5fb",
   "metadata": {
    "scrolled": false
   },
   "outputs": [
    {
     "data": {
      "text/html": [
       "<div>\n",
       "<style scoped>\n",
       "    .dataframe tbody tr th:only-of-type {\n",
       "        vertical-align: middle;\n",
       "    }\n",
       "\n",
       "    .dataframe tbody tr th {\n",
       "        vertical-align: top;\n",
       "    }\n",
       "\n",
       "    .dataframe thead th {\n",
       "        text-align: right;\n",
       "    }\n",
       "</style>\n",
       "<table border=\"1\" class=\"dataframe\">\n",
       "  <thead>\n",
       "    <tr style=\"text-align: right;\">\n",
       "      <th></th>\n",
       "      <th>0</th>\n",
       "      <th>1</th>\n",
       "      <th>2</th>\n",
       "      <th>3</th>\n",
       "      <th>4</th>\n",
       "    </tr>\n",
       "  </thead>\n",
       "  <tbody>\n",
       "    <tr>\n",
       "      <th>id_guest_anon</th>\n",
       "      <td>da8656a1-51af-4f38-b1c4-94be1f585157</td>\n",
       "      <td>8590d6f1-8bc9-4e8b-bdfb-de78f69fcf37</td>\n",
       "      <td>ebcd83ba-bda1-47eb-9680-2dd04ccf3988</td>\n",
       "      <td>b0af8848-fe2a-4ef1-991e-26ab3066feb3</td>\n",
       "      <td>5ddbbcc3-ac1a-4d8a-b6f8-0f675b76d1b2</td>\n",
       "    </tr>\n",
       "    <tr>\n",
       "      <th>id_host_anon</th>\n",
       "      <td>5426897d-960d-4013-9e38-606ae746793c</td>\n",
       "      <td>f30417c5-6df4-45ac-bfc2-6ad1cce398ab</td>\n",
       "      <td>13cbf50a-3272-45d4-9866-a06b6ea1b99a</td>\n",
       "      <td>01614601-d5a4-4776-ab9b-c10d3b865bf0</td>\n",
       "      <td>f2fed6f3-4c5c-453d-9e64-37c62b8bd06d</td>\n",
       "    </tr>\n",
       "    <tr>\n",
       "      <th>id_listing_anon</th>\n",
       "      <td>a408a8b2-0d44-4513-a611-3736d0409bb2</td>\n",
       "      <td>e387c705-0aeb-464c-9375-ece63be6f006</td>\n",
       "      <td>d1eb1960-938f-4305-a353-51e224414dd4</td>\n",
       "      <td>855f6779-346c-45fc-a64b-ea133250ca7a</td>\n",
       "      <td>f2928a59-c5e7-42b2-9c37-240a40f38dc0</td>\n",
       "    </tr>\n",
       "    <tr>\n",
       "      <th>ts_interaction_first</th>\n",
       "      <td>2016-04-21 02:55:53</td>\n",
       "      <td>2016-02-16 22:14:01</td>\n",
       "      <td>2016-01-27 23:33:38</td>\n",
       "      <td>2016-05-05 14:42:52</td>\n",
       "      <td>2016-06-23 03:09:25</td>\n",
       "    </tr>\n",
       "    <tr>\n",
       "      <th>ts_reply_at_first</th>\n",
       "      <td>2016-04-21 03:15:00</td>\n",
       "      <td>2016-02-16 23:37:36</td>\n",
       "      <td>2016-01-28 02:12:47</td>\n",
       "      <td>2016-05-05 15:17:40</td>\n",
       "      <td>2016-06-23 03:09:26</td>\n",
       "    </tr>\n",
       "    <tr>\n",
       "      <th>ts_accepted_at_first</th>\n",
       "      <td>2016-04-21 03:15:00</td>\n",
       "      <td>NaT</td>\n",
       "      <td>NaT</td>\n",
       "      <td>2016-05-05 15:17:40</td>\n",
       "      <td>2016-06-23 03:09:33</td>\n",
       "    </tr>\n",
       "    <tr>\n",
       "      <th>ts_booking_at</th>\n",
       "      <td>2016-04-21 03:15:00</td>\n",
       "      <td>NaT</td>\n",
       "      <td>NaT</td>\n",
       "      <td>NaT</td>\n",
       "      <td>2016-06-23 03:09:33</td>\n",
       "    </tr>\n",
       "    <tr>\n",
       "      <th>ds_checkin_first</th>\n",
       "      <td>2016-08-02 00:00:00</td>\n",
       "      <td>2016-08-11 00:00:00</td>\n",
       "      <td>2016-03-14 00:00:00</td>\n",
       "      <td>2016-05-27 00:00:00</td>\n",
       "      <td>2016-08-19 00:00:00</td>\n",
       "    </tr>\n",
       "    <tr>\n",
       "      <th>ds_checkout_first</th>\n",
       "      <td>2016-08-06 00:00:00</td>\n",
       "      <td>2016-08-22 00:00:00</td>\n",
       "      <td>2016-03-23 00:00:00</td>\n",
       "      <td>2016-05-29 00:00:00</td>\n",
       "      <td>2016-08-21 00:00:00</td>\n",
       "    </tr>\n",
       "    <tr>\n",
       "      <th>m_guests</th>\n",
       "      <td>4.0</td>\n",
       "      <td>5.0</td>\n",
       "      <td>1.0</td>\n",
       "      <td>2.0</td>\n",
       "      <td>3.0</td>\n",
       "    </tr>\n",
       "    <tr>\n",
       "      <th>m_interactions</th>\n",
       "      <td>30</td>\n",
       "      <td>2</td>\n",
       "      <td>3</td>\n",
       "      <td>3</td>\n",
       "      <td>25</td>\n",
       "    </tr>\n",
       "    <tr>\n",
       "      <th>m_first_message_length_in_characters</th>\n",
       "      <td>31.0</td>\n",
       "      <td>312.0</td>\n",
       "      <td>164.0</td>\n",
       "      <td>203.0</td>\n",
       "      <td>0.0</td>\n",
       "    </tr>\n",
       "    <tr>\n",
       "      <th>contact_channel_first</th>\n",
       "      <td>book_it</td>\n",
       "      <td>contact_me</td>\n",
       "      <td>contact_me</td>\n",
       "      <td>contact_me</td>\n",
       "      <td>instant_book</td>\n",
       "    </tr>\n",
       "    <tr>\n",
       "      <th>guest_user_stage_first</th>\n",
       "      <td>past_booker</td>\n",
       "      <td>past_booker</td>\n",
       "      <td>new</td>\n",
       "      <td>new</td>\n",
       "      <td>past_booker</td>\n",
       "    </tr>\n",
       "  </tbody>\n",
       "</table>\n",
       "</div>"
      ],
      "text/plain": [
       "                                                                         0  \\\n",
       "id_guest_anon                         da8656a1-51af-4f38-b1c4-94be1f585157   \n",
       "id_host_anon                          5426897d-960d-4013-9e38-606ae746793c   \n",
       "id_listing_anon                       a408a8b2-0d44-4513-a611-3736d0409bb2   \n",
       "ts_interaction_first                                   2016-04-21 02:55:53   \n",
       "ts_reply_at_first                                      2016-04-21 03:15:00   \n",
       "ts_accepted_at_first                                   2016-04-21 03:15:00   \n",
       "ts_booking_at                                          2016-04-21 03:15:00   \n",
       "ds_checkin_first                                       2016-08-02 00:00:00   \n",
       "ds_checkout_first                                      2016-08-06 00:00:00   \n",
       "m_guests                                                               4.0   \n",
       "m_interactions                                                          30   \n",
       "m_first_message_length_in_characters                                  31.0   \n",
       "contact_channel_first                                              book_it   \n",
       "guest_user_stage_first                                         past_booker   \n",
       "\n",
       "                                                                         1  \\\n",
       "id_guest_anon                         8590d6f1-8bc9-4e8b-bdfb-de78f69fcf37   \n",
       "id_host_anon                          f30417c5-6df4-45ac-bfc2-6ad1cce398ab   \n",
       "id_listing_anon                       e387c705-0aeb-464c-9375-ece63be6f006   \n",
       "ts_interaction_first                                   2016-02-16 22:14:01   \n",
       "ts_reply_at_first                                      2016-02-16 23:37:36   \n",
       "ts_accepted_at_first                                                   NaT   \n",
       "ts_booking_at                                                          NaT   \n",
       "ds_checkin_first                                       2016-08-11 00:00:00   \n",
       "ds_checkout_first                                      2016-08-22 00:00:00   \n",
       "m_guests                                                               5.0   \n",
       "m_interactions                                                           2   \n",
       "m_first_message_length_in_characters                                 312.0   \n",
       "contact_channel_first                                           contact_me   \n",
       "guest_user_stage_first                                         past_booker   \n",
       "\n",
       "                                                                         2  \\\n",
       "id_guest_anon                         ebcd83ba-bda1-47eb-9680-2dd04ccf3988   \n",
       "id_host_anon                          13cbf50a-3272-45d4-9866-a06b6ea1b99a   \n",
       "id_listing_anon                       d1eb1960-938f-4305-a353-51e224414dd4   \n",
       "ts_interaction_first                                   2016-01-27 23:33:38   \n",
       "ts_reply_at_first                                      2016-01-28 02:12:47   \n",
       "ts_accepted_at_first                                                   NaT   \n",
       "ts_booking_at                                                          NaT   \n",
       "ds_checkin_first                                       2016-03-14 00:00:00   \n",
       "ds_checkout_first                                      2016-03-23 00:00:00   \n",
       "m_guests                                                               1.0   \n",
       "m_interactions                                                           3   \n",
       "m_first_message_length_in_characters                                 164.0   \n",
       "contact_channel_first                                           contact_me   \n",
       "guest_user_stage_first                                                 new   \n",
       "\n",
       "                                                                         3  \\\n",
       "id_guest_anon                         b0af8848-fe2a-4ef1-991e-26ab3066feb3   \n",
       "id_host_anon                          01614601-d5a4-4776-ab9b-c10d3b865bf0   \n",
       "id_listing_anon                       855f6779-346c-45fc-a64b-ea133250ca7a   \n",
       "ts_interaction_first                                   2016-05-05 14:42:52   \n",
       "ts_reply_at_first                                      2016-05-05 15:17:40   \n",
       "ts_accepted_at_first                                   2016-05-05 15:17:40   \n",
       "ts_booking_at                                                          NaT   \n",
       "ds_checkin_first                                       2016-05-27 00:00:00   \n",
       "ds_checkout_first                                      2016-05-29 00:00:00   \n",
       "m_guests                                                               2.0   \n",
       "m_interactions                                                           3   \n",
       "m_first_message_length_in_characters                                 203.0   \n",
       "contact_channel_first                                           contact_me   \n",
       "guest_user_stage_first                                                 new   \n",
       "\n",
       "                                                                         4  \n",
       "id_guest_anon                         5ddbbcc3-ac1a-4d8a-b6f8-0f675b76d1b2  \n",
       "id_host_anon                          f2fed6f3-4c5c-453d-9e64-37c62b8bd06d  \n",
       "id_listing_anon                       f2928a59-c5e7-42b2-9c37-240a40f38dc0  \n",
       "ts_interaction_first                                   2016-06-23 03:09:25  \n",
       "ts_reply_at_first                                      2016-06-23 03:09:26  \n",
       "ts_accepted_at_first                                   2016-06-23 03:09:33  \n",
       "ts_booking_at                                          2016-06-23 03:09:33  \n",
       "ds_checkin_first                                       2016-08-19 00:00:00  \n",
       "ds_checkout_first                                      2016-08-21 00:00:00  \n",
       "m_guests                                                               3.0  \n",
       "m_interactions                                                          25  \n",
       "m_first_message_length_in_characters                                   0.0  \n",
       "contact_channel_first                                         instant_book  \n",
       "guest_user_stage_first                                         past_booker  "
      ]
     },
     "metadata": {},
     "output_type": "display_data"
    }
   ],
   "source": [
    "# Visually examine first 5 rows of data\n",
    "display(contacts_df.head().T)"
   ]
  },
  {
   "cell_type": "code",
   "execution_count": 27,
   "id": "8069332c",
   "metadata": {},
   "outputs": [],
   "source": [
    "# Create a combination of the three id columns to check for unique values\n",
    "contacts_df['uid'] = contacts_df['id_guest_anon'] + contacts_df['id_host_anon'] + contacts_df['id_listing_anon']\n",
    "\n",
    "if contacts_df['uid'].nunique() == contacts_df.shape[0]:\n",
    "    print(\"The combination of id columns form a unique identifier for each AirBnB inquiry.\")"
   ]
  },
  {
   "cell_type": "code",
   "execution_count": 28,
   "id": "cf480826",
   "metadata": {},
   "outputs": [
    {
     "data": {
      "text/plain": [
       "27788"
      ]
     },
     "execution_count": 28,
     "metadata": {},
     "output_type": "execute_result"
    }
   ],
   "source": [
    "contacts_df['uid'].nunique()"
   ]
  },
  {
   "cell_type": "code",
   "execution_count": 29,
   "id": "559c059d",
   "metadata": {},
   "outputs": [
    {
     "data": {
      "text/plain": [
       "27887"
      ]
     },
     "execution_count": 29,
     "metadata": {},
     "output_type": "execute_result"
    }
   ],
   "source": [
    "contacts_df.shape[0]"
   ]
  },
  {
   "cell_type": "markdown",
   "id": "577c162d",
   "metadata": {},
   "source": [
    "### Supporting data tables"
   ]
  },
  {
   "cell_type": "markdown",
   "id": "1e2b1c82",
   "metadata": {},
   "source": [
    "Two supporting data files: `Listings.csv` and `Users.csv` were provided. Similar to `contacts_df`, the "
   ]
  },
  {
   "cell_type": "code",
   "execution_count": 16,
   "id": "e5c6dadb",
   "metadata": {},
   "outputs": [],
   "source": [
    "# Importing the data for every listing\n",
    "listings_df = pd.read_csv('data/listings.csv')"
   ]
  },
  {
   "cell_type": "markdown",
   "id": "c1c351c5",
   "metadata": {},
   "source": [
    "**Listings.csv** contains data for every listing in the market."
   ]
  },
  {
   "cell_type": "code",
   "execution_count": 17,
   "id": "62ff0350",
   "metadata": {},
   "outputs": [
    {
     "name": "stdout",
     "output_type": "stream",
     "text": [
      "Overview statistics for listings_df:\n",
      "Number of rows: 13038\n",
      "Number of columns: 4\n",
      "Number of rows with null values in any column: 0\n",
      "% of rows with null values in any column: 0.0%\n",
      "Number of null cells: 0\n",
      "% of cells with null values: 0.0%\n"
     ]
    }
   ],
   "source": [
    "# Examine the overview for the loaded data\n",
    "dataframe_overview(listings_df, \"listings_df\")"
   ]
  },
  {
   "cell_type": "code",
   "execution_count": 8,
   "id": "4a122b49",
   "metadata": {},
   "outputs": [
    {
     "data": {
      "text/plain": [
       "16300"
      ]
     },
     "execution_count": 8,
     "metadata": {},
     "output_type": "execute_result"
    }
   ],
   "source": [
    "contacts_df.isna().any(axis = 1).sum()"
   ]
  },
  {
   "cell_type": "code",
   "execution_count": null,
   "id": "d2a7c1da",
   "metadata": {},
   "outputs": [],
   "source": [
    "contacts_df."
   ]
  },
  {
   "cell_type": "code",
   "execution_count": null,
   "id": "2eb67a90",
   "metadata": {},
   "outputs": [],
   "source": [
    "contacts_df.info()"
   ]
  },
  {
   "cell_type": "code",
   "execution_count": null,
   "id": "7fe51ab7",
   "metadata": {},
   "outputs": [],
   "source": []
  }
 ],
 "metadata": {
  "kernelspec": {
   "display_name": "Python [conda env:streamlit]",
   "language": "python",
   "name": "conda-env-streamlit-py"
  },
  "language_info": {
   "codemirror_mode": {
    "name": "ipython",
    "version": 3
   },
   "file_extension": ".py",
   "mimetype": "text/x-python",
   "name": "python",
   "nbconvert_exporter": "python",
   "pygments_lexer": "ipython3",
   "version": "3.7.16"
  }
 },
 "nbformat": 4,
 "nbformat_minor": 5
}
